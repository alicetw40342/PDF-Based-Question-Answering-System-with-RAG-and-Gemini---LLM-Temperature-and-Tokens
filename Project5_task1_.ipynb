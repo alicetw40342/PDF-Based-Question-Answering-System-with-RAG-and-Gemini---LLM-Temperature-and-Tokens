{
  "nbformat": 4,
  "nbformat_minor": 0,
  "metadata": {
    "colab": {
      "provenance": [],
      "authorship_tag": "ABX9TyO7aIJ+h0Ck4eZma2zUzyMy",
      "include_colab_link": true
    },
    "kernelspec": {
      "name": "python3",
      "display_name": "Python 3"
    },
    "language_info": {
      "name": "python"
    }
  },
  "cells": [
    {
      "cell_type": "markdown",
      "metadata": {
        "id": "view-in-github",
        "colab_type": "text"
      },
      "source": [
        "<a href=\"https://colab.research.google.com/github/alicetw40342/PDF-Based-Question-Answering-System-with-RAG-and-Gemini---LLM-Temperature-and-Tokens/blob/main/Project5_task1_.ipynb\" target=\"_parent\"><img src=\"https://colab.research.google.com/assets/colab-badge.svg\" alt=\"Open In Colab\"/></a>"
      ]
    },
    {
      "cell_type": "code",
      "execution_count": null,
      "metadata": {
        "id": "HXZ2DO0op8aK"
      },
      "outputs": [],
      "source": [
        "from google.generativeai.types import GenerationConfig  # 確保你有正確匯入\n",
        "\n",
        "def generate_answer(prompt, temperature=0.7, max_tokens=256):\n",
        "    config = GenerationConfig(\n",
        "        temperature=temperature,\n",
        "        max_output_tokens=max_tokens,\n",
        "    )\n",
        "    response = model.generate_content(prompt, generation_config=config)\n",
        "    return response.text\n"
      ]
    },
    {
      "cell_type": "code",
      "source": [
        "prompt = \"Summarize the key findings from this report.\"\n",
        "answer = generate_answer(prompt, temperature=0.3, max_tokens=100)\n",
        "print(answer)\n"
      ],
      "metadata": {
        "id": "O6I8mq45qhsa"
      },
      "execution_count": null,
      "outputs": []
    }
  ]
}