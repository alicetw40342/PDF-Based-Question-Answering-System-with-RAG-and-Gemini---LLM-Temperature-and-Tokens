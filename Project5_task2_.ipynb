{
  "nbformat": 4,
  "nbformat_minor": 0,
  "metadata": {
    "colab": {
      "provenance": [],
      "authorship_tag": "ABX9TyOMBV0YrLT2JVbqrDdwpO4p",
      "include_colab_link": true
    },
    "kernelspec": {
      "name": "python3",
      "display_name": "Python 3"
    },
    "language_info": {
      "name": "python"
    }
  },
  "cells": [
    {
      "cell_type": "markdown",
      "metadata": {
        "id": "view-in-github",
        "colab_type": "text"
      },
      "source": [
        "<a href=\"https://colab.research.google.com/github/alicetw40342/PDF-Based-Question-Answering-System-with-RAG-and-Gemini---LLM-Temperature-and-Tokens/blob/main/Project5_task2_.ipynb\" target=\"_parent\"><img src=\"https://colab.research.google.com/assets/colab-badge.svg\" alt=\"Open In Colab\"/></a>"
      ]
    },
    {
      "cell_type": "code",
      "execution_count": null,
      "metadata": {
        "id": "cUmqZa9KrAl3"
      },
      "outputs": [],
      "source": [
        "def experiment_with_temperature(prompt):\n",
        "    temperatures = [0.0, 0.5, 1.0]\n",
        "    max_tokens = 200  # 可依需要調整\n",
        "\n",
        "    print(f\"🔍 Prompt:\\n{prompt}\\n\")\n",
        "\n",
        "    for temp in temperatures:\n",
        "        print(f\"\\n🌡️ Temperature = {temp}\")\n",
        "        print(\"-\" * 40)\n",
        "        answer = generate_answer(prompt, temperature=temp, max_tokens=max_tokens)\n",
        "        pri\n"
      ]
    },
    {
      "cell_type": "code",
      "source": [
        "final_prompt = \"Summarize the main ideas in the U.S. Declaration of Independence.\"\n",
        "experiment_with_temperature(final_prompt)"
      ],
      "metadata": {
        "id": "q4CIuvyQrEA_"
      },
      "execution_count": null,
      "outputs": []
    }
  ]
}