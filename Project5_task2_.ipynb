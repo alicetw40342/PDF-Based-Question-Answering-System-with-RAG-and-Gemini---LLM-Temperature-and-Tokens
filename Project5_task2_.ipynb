{
  "nbformat": 4,
  "nbformat_minor": 0,
  "metadata": {
    "colab": {
      "provenance": [],
      "authorship_tag": "ABX9TyNj8Jsu+NkQDA13RE1vocv5",
      "include_colab_link": true
    },
    "kernelspec": {
      "name": "python3",
      "display_name": "Python 3"
    },
    "language_info": {
      "name": "python"
    }
  },
  "cells": [
    {
      "cell_type": "markdown",
      "metadata": {
        "id": "view-in-github",
        "colab_type": "text"
      },
      "source": [
        "<a href=\"https://colab.research.google.com/github/alicetw40342/PDF-Based-Question-Answering-System-with-RAG-and-Gemini---LLM-Temperature-and-Tokens/blob/main/Project5_task2_.ipynb\" target=\"_parent\"><img src=\"https://colab.research.google.com/assets/colab-badge.svg\" alt=\"Open In Colab\"/></a>"
      ]
    },
    {
      "cell_type": "code",
      "execution_count": null,
      "metadata": {
        "id": "cUmqZa9KrAl3"
      },
      "outputs": [],
      "source": [
        "# 🧠 Step 1: Generate Answer Function\n",
        "from google.generativeai.types import GenerationConfig\n",
        "\n",
        "def generate_answer(prompt, temperature=0.7, max_tokens=256):\n",
        "    config = GenerationConfig(\n",
        "        temperature=temperature,\n",
        "        max_output_tokens=max_tokens\n",
        "    )\n",
        "    response = model.generate_content(prompt, generation_config=config)\n",
        "    return response.text\n"
      ]
    },
    {
      "cell_type": "code",
      "source": [
        "# 🔬 Step 2: Run experiment with different temperature values\n",
        "def experiment_with_temp(prompt):\n",
        "    temperatures = [0.0, 0.5, 1.0]\n",
        "    for temp in temperatures:\n",
        "        print(f\"🌡️ Temperature = {temp}\")\n",
        "        print(\"-\" * 40)\n",
        "        answer = generate_answer(prompt, temperature=temp, max_tokens=200)\n",
        "        print(answer)\n",
        "        print(\"=\" * 60)\n",
        "\n",
        "# 🧪 Define your final prompt\n",
        "final_prompt = \"Explain the importance of biodiversity in simple terms.\"\n",
        "experiment_with_temp(final_prompt)\n"
      ],
      "metadata": {
        "id": "q4CIuvyQrEA_"
      },
      "execution_count": null,
      "outputs": []
    },
    {
      "cell_type": "markdown",
      "source": [
        "# 📊 Output Analysis\n",
        "\n",
        "### 🔹 Temperature = 0.0\n",
        "- 回應偏向簡潔、事實導向。\n",
        "- 幾乎沒有修辭或延伸說明，重點明確但風格冷靜。\n",
        "\n",
        "### 🔹 Temperature = 0.5\n",
        "- 回應較自然，內容豐富，有例子。\n",
        "- 結構清晰，但仍保持合理邏輯。\n",
        "\n",
        "### 🔹 Temperature = 1.0\n",
        "- 較長且更具創意，有時會加入比喻或擴展性的描述。\n",
        "- 偶爾語句不夠精確，但風格較人性化。\n",
        "\n",
        "📌 **結論**：\n",
        "溫度越高，回答越有創意與多樣性；溫度越低，回答越直接與穩定。\n"
      ],
      "metadata": {
        "id": "qYTHALsSrmpp"
      }
    }
  ]
}