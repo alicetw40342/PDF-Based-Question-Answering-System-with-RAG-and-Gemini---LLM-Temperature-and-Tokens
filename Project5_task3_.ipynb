{
  "nbformat": 4,
  "nbformat_minor": 0,
  "metadata": {
    "colab": {
      "provenance": [],
      "authorship_tag": "ABX9TyOgSJ3KgJUJSDahcr4zvt9d",
      "include_colab_link": true
    },
    "kernelspec": {
      "name": "python3",
      "display_name": "Python 3"
    },
    "language_info": {
      "name": "python"
    }
  },
  "cells": [
    {
      "cell_type": "markdown",
      "metadata": {
        "id": "view-in-github",
        "colab_type": "text"
      },
      "source": [
        "<a href=\"https://colab.research.google.com/github/alicetw40342/PDF-Based-Question-Answering-System-with-RAG-and-Gemini---LLM-Temperature-and-Tokens/blob/main/Project5_task3_.ipynb\" target=\"_parent\"><img src=\"https://colab.research.google.com/assets/colab-badge.svg\" alt=\"Open In Colab\"/></a>"
      ]
    },
    {
      "cell_type": "code",
      "execution_count": null,
      "metadata": {
        "id": "MqIwcW86sY9i"
      },
      "outputs": [],
      "source": [
        "# generate_answer(prompt, temperature, max_tokens)\n",
        "\n",
        "def experiment_with_token_limits(prompt):\n",
        "    temperature = 0.5  # 固定溫度\n",
        "    token_limits = [20, 50, 200]\n",
        "\n",
        "    print(f\"📘 Prompt:\\n{prompt}\\n\")\n",
        "\n",
        "    for max_tokens in token_limits:\n",
        "        print(f\"\\n🧮 max_output_tokens = {max_tokens}\")\n",
        "        print(\"-\" * 50)\n",
        "        answer = generate_answer(prompt, temperature=temperature, max_tokens=max_tokens)\n",
        "        print(answer)\n",
        "        print(\"=\" * 60)\n",
        "\n",
        "# 🧪 測試 prompt\n",
        "final_prompt = \"Explain how photosynthesis works in simple terms.\"\n",
        "experiment_with_token_limits(final_prompt)\n"
      ]
    },
    {
      "cell_type": "markdown",
      "source": [
        "# 📊 Token Limit Analysis\n",
        "\n",
        "### 🔸 20 tokens\n",
        "- 回應非常簡短，可能只包含一句話甚至是半句話。\n",
        "- 有時中途被截斷，不完整。\n",
        "\n",
        "### 🔸 50 tokens\n",
        "- 回應稍微完整，能勉強描述一個想法。\n",
        "- 尚可接受，但仍可能缺少結尾或細節。\n",
        "\n",
        "### 🔸 200 tokens\n",
        "- 回應完整、有結構、有例子。\n",
        "- 適合正式說明或輸出文章段落。\n",
        "\n",
        "📌 **用途說明**：\n",
        "使用 `max_output_tokens` 可以：\n",
        "- 控制 API 成本（token 計價）\n",
        "- 避免過長回答溢出 UI 版面\n",
        "- 在需固定字數的應用中（如摘要、SMS）很有幫助\n"
      ],
      "metadata": {
        "id": "24vHpDH1scO-"
      }
    }
  ]
}